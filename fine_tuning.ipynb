{
 "cells": [
  {
   "cell_type": "code",
   "execution_count": null,
   "metadata": {},
   "outputs": [],
   "source": [
    "import pandas as pd\n",
    "from sklearn.model_selection import train_test_split\n",
    "import re\n",
    "import nltk\n",
    "from nltk.corpus import stopwords\n",
    "from nltk.stem.wordnet import WordNetLemmatizer\n",
    "nltk.download('stopwords')\n",
    "nltk.download('wordnet')"
   ]
  },
  {
   "cell_type": "code",
   "execution_count": null,
   "metadata": {},
   "outputs": [],
   "source": [
    "PATH = './data/ruddit.csv'\n",
    "TRAIN_RATIO = 0.75\n",
    "TEST_VAL_RATIO = 1\n",
    "\n",
    "dataset = pd.read_csv(PATH)\n",
    "x_train, x_test_valid, y_train, y_test_valid = train_test_split(dataset[\"comment_text\"], dataset['offensiveness_score'] , train_size=TRAIN_RATIO, random_state=0)\n",
    "x_test, x_valid, y_test, y_valid = train_test_split(x_test_valid, y_test_valid, test_size=TEST_VAL_RATIO, random_state=0)\n",
    "x_train = x_train.reset_index(drop=True)\n",
    "y_train = y_train.reset_index(drop=True)\n",
    "x_test = x_test.reset_index(drop=True)\n",
    "y_test = y_test.reset_index(drop=True)\n",
    "x_valid = x_valid.reset_index(drop=True)\n",
    "y_valid = y_valid.reset_index(drop=True)\n",
    "train_raw = pd.DataFrame({'text': x_train, 'score': y_train})\n",
    "test_raw = pd.DataFrame({'text': x_test, 'score': y_test})\n",
    "valid_raw = pd.DataFrame({'text': x_valid, 'score': y_valid})\n",
    "train_raw['score'] = train_raw['score'].astype('float32')\n",
    "test_raw['score'] = test_raw['score'].astype('float32')\n",
    "valid_raw['score'] = valid_raw['score'].astype('float32')\n",
    "del x_train, x_test, x_valid, y_train, y_test, y_valid, x_test_valid, y_test_valid\n",
    "len(train_raw), len(test_raw), len(valid_raw)"
   ]
  },
  {
   "cell_type": "code",
   "execution_count": null,
   "metadata": {},
   "outputs": [],
   "source": [
    "wl = WordNetLemmatizer()\n",
    "stop_words = set(stopwords.words('english'))\n",
    "\n",
    "def preprocess_text(text):\n",
    "    pattern = re.compile('[^a-zA-Z]')\n",
    "    text = pattern.sub(' ', text)\n",
    "    text = text.lower()\n",
    "    text = text.split()\n",
    "    text = [wl.lemmatize(word) for word in text if not word in stop_words]\n",
    "    text = ' '.join(text)\n",
    "    return text\n",
    "\n",
    "def clean_dataset(ds):\n",
    "    ds['text'] = ds['text'].apply(preprocess_text)\n",
    "    return ds\n",
    "\n",
    "train = clean_dataset(train_raw.copy())\n",
    "test = clean_dataset(test_raw.copy())\n",
    "valid = clean_dataset(valid_raw.copy())"
   ]
  },
  {
   "cell_type": "code",
   "execution_count": null,
   "metadata": {},
   "outputs": [],
   "source": [
    "from transformers import AutoTokenizer, AutoModelForSequenceClassification, DataCollatorWithPadding\n",
    "from torch.utils.data import DataLoader\n",
    "\n",
    "BASE_MODEL = \"bert-base-cased\"\n",
    "LEARNING_RATE = 2e-5\n",
    "MAX_LENGTH = 256\n",
    "BATCH_SIZE = 8\n",
    "EPOCHS = 5\n",
    "\n",
    "tokenizer = AutoTokenizer.from_pretrained(BASE_MODEL)\n",
    "model = AutoModelForSequenceClassification.from_pretrained(BASE_MODEL, num_labels=1)"
   ]
  },
  {
   "cell_type": "code",
   "execution_count": null,
   "metadata": {},
   "outputs": [],
   "source": [
    "\n",
    "import torch\n",
    "\n",
    "class RudditDataset(torch.utils.data.Dataset):\n",
    "    def __init__(self, encodings, labels):\n",
    "        self.encodings = encodings\n",
    "        self.labels = labels\n",
    "\n",
    "    def __getitem__(self, idx):\n",
    "        item = {key: torch.tensor(val[idx]) for key, val in self.encodings.items()}\n",
    "        item['labels'] = torch.tensor(self.labels[idx])\n",
    "        return item\n",
    "\n",
    "    def __len__(self):\n",
    "        return len(self.labels)\n"
   ]
  },
  {
   "cell_type": "code",
   "execution_count": null,
   "metadata": {},
   "outputs": [],
   "source": [
    "train_encodings = tokenizer(list(train_raw['text']), truncation=True, padding=True)\n",
    "val_encodings = tokenizer(list(valid_raw['text']), truncation=True, padding=True)\n",
    "test_encodings = tokenizer(list(test_raw['text']), truncation=True, padding=True)\n",
    "train_dataset = RudditDataset(train_encodings, train['score'])\n",
    "val_dataset = RudditDataset(val_encodings, valid['score'])\n",
    "test_dataset = RudditDataset(test_encodings, test['score'])"
   ]
  },
  {
   "cell_type": "code",
   "execution_count": null,
   "metadata": {},
   "outputs": [],
   "source": [
    "from sklearn.metrics import mean_absolute_error\n",
    "from sklearn.metrics import mean_squared_error\n",
    "from sklearn.metrics import r2_score\n",
    "\n",
    "def compute_metrics_for_regression(eval_pred):\n",
    "    logits, labels = eval_pred\n",
    "    labels = labels.reshape(-1, 1)\n",
    "    \n",
    "    mse = mean_squared_error(labels, logits)\n",
    "    mae = mean_absolute_error(labels, logits)\n",
    "    r2 = r2_score(labels, logits)\n",
    "    single_squared_errors = ((logits - labels).flatten()**2).tolist()\n",
    "    \n",
    "    # Compute accuracy \n",
    "    # Based on the fact that the rounded score = true score only if |single_squared_errors| < 0.5\n",
    "    accuracy = sum([1 for e in single_squared_errors if e < 0.25]) / len(single_squared_errors)\n",
    "    \n",
    "    return {\"mse\": mse, \"mae\": mae, \"r2\": r2, \"accuracy\": accuracy}"
   ]
  },
  {
   "cell_type": "code",
   "execution_count": null,
   "metadata": {},
   "outputs": [],
   "source": [
    "from transformers import TrainingArguments, Trainer\n",
    "\n",
    "training_args = TrainingArguments(\n",
    "    output_dir=\"./models/bert-cleaned-dataset-regression\",\n",
    "    learning_rate=LEARNING_RATE,\n",
    "    per_device_train_batch_size=BATCH_SIZE,\n",
    "    per_device_eval_batch_size=BATCH_SIZE,\n",
    "    num_train_epochs=EPOCHS,\n",
    "    evaluation_strategy=\"epoch\",\n",
    "    save_strategy=\"epoch\",\n",
    "    save_total_limit=10,\n",
    "    metric_for_best_model=\"accuracy\",\n",
    "    load_best_model_at_end=True,\n",
    "    weight_decay=0.01,\n",
    ")"
   ]
  },
  {
   "cell_type": "code",
   "execution_count": null,
   "metadata": {},
   "outputs": [],
   "source": [
    "from transformers import TrainingArguments, Trainer\n",
    "\n",
    "import torch\n",
    "\n",
    "class RegressionTrainer(Trainer):\n",
    "    def compute_loss(self, model, inputs, return_outputs=False):\n",
    "        labels = inputs.pop(\"labels\")\n",
    "        outputs = model(**inputs)\n",
    "        logits = outputs[0][:, 0]\n",
    "        loss = torch.nn.functional.mse_loss(logits, labels)\n",
    "        return (loss, outputs) if return_outputs else loss"
   ]
  },
  {
   "cell_type": "code",
   "execution_count": null,
   "metadata": {},
   "outputs": [],
   "source": [
    "\n",
    "trainer = RegressionTrainer(\n",
    "    model=model,\n",
    "    args=training_args,\n",
    "    train_dataset=train_dataset,\n",
    "    eval_dataset=val_dataset,\n",
    "    compute_metrics=compute_metrics_for_regression,\n",
    ")\n",
    "trainer.train()"
   ]
  },
  {
   "cell_type": "code",
   "execution_count": null,
   "metadata": {},
   "outputs": [],
   "source": [
    "trainer.eval_dataset=test_dataset\n",
    "trainer.evaluate()"
   ]
  },
  {
   "cell_type": "code",
   "execution_count": null,
   "metadata": {},
   "outputs": [],
   "source": [
    "trainer = RegressionTrainer(\n",
    "    model=model,\n",
    "    args=training_args,\n",
    "    train_dataset=train_dataset,\n",
    "    eval_dataset=val_dataset,\n",
    "    compute_metrics=compute_metrics_for_regression,\n",
    ")\n",
    "trainer.train()"
   ]
  },
  {
   "cell_type": "code",
   "execution_count": null,
   "metadata": {},
   "outputs": [],
   "source": [
    "LLM_Models = ['GroNLP/hateBERT', 'unitary/unbiased-toxic-roberta', 'martin-ha/toxic-comment-model', 'unitary/toxic-bert']"
   ]
  },
  {
   "cell_type": "code",
   "execution_count": null,
   "metadata": {},
   "outputs": [],
   "source": [
    "from transformers import AutoTokenizer, AutoModelForSequenceClassification, DataCollatorWithPadding\n",
    "from transformers import TrainingArguments, Trainer\n",
    "from torch.utils.data import DataLoader\n",
    "import torch\n",
    "\n",
    "for model_name in LLM_Models:\n",
    "    # BASE_MODEL = \"bert-base-cased\"\n",
    "    print(f\"Training model {model_name}\")\n",
    "    LEARNING_RATE = 2e-5\n",
    "    MAX_LENGTH = 256\n",
    "    BATCH_SIZE = 8\n",
    "    EPOCHS = 7\n",
    "\n",
    "    tokenizer = AutoTokenizer.from_pretrained(model_name)\n",
    "    model = AutoModelForSequenceClassification.from_pretrained(model_name, num_labels=1)\n",
    "\n",
    "\n",
    "    train_encodings = tokenizer(list(train['text']), truncation=True, padding=True)\n",
    "    val_encodings = tokenizer(list(valid['text']), truncation=True, padding=True)\n",
    "    test_encodings = tokenizer(list(test['text']), truncation=True, padding=True)\n",
    "\n",
    "\n",
    "    train_raw_encodings = tokenizer(list(train_raw['text']), truncation=True, padding=True)\n",
    "    val_raw_encodings = tokenizer(list(valid_raw['text']), truncation=True, padding=True)\n",
    "    test_raw_encodings = tokenizer(list(test_raw['text']), truncation=True, padding=True)\n",
    "\n",
    "\n",
    "    train_dataset = RudditDataset(train_encodings, train['score'])\n",
    "    val_dataset = RudditDataset(val_encodings, valid['score'])\n",
    "    test_dataset = RudditDataset(test_encodings, test['score'])\n",
    "\n",
    "\n",
    "    train_raw_dataset = RudditDataset(train_raw_encodings, train['score'])\n",
    "    val_raw_dataset = RudditDataset(val_raw_encodings, valid['score'])\n",
    "    test_raw_dataset = RudditDataset(test_raw_encodings, test['score'])\n",
    "\n",
    "\n",
    "\n",
    "    training_args = TrainingArguments(\n",
    "        output_dir=f\"./models/{model_name}/-regression\",\n",
    "        learning_rate=LEARNING_RATE,\n",
    "        per_device_train_batch_size=BATCH_SIZE,\n",
    "        per_device_eval_batch_size=BATCH_SIZE,\n",
    "        num_train_epochs=EPOCHS,\n",
    "        evaluation_strategy=\"epoch\",\n",
    "        save_strategy=\"epoch\",\n",
    "        save_total_limit=10,\n",
    "        metric_for_best_model=\"accuracy\",\n",
    "        load_best_model_at_end=True,\n",
    "        weight_decay=0.01,\n",
    "    )\n",
    "\n",
    "    trainer = RegressionTrainer(\n",
    "        model=model,\n",
    "        args=training_args,\n",
    "        train_dataset=train_dataset,\n",
    "        eval_dataset=val_dataset,\n",
    "        compute_metrics=compute_metrics_for_regression,\n",
    "    )\n",
    "    trainer.train()\n",
    "    trainer.eval_dataset=test_dataset\n",
    "    trainer.evaluate()\n",
    "\n",
    "    torch.cuda.empty_cache()\n",
    "\n",
    "    training_args = TrainingArguments(\n",
    "        output_dir=f\"./models/{model_name}/-raw-regression\",\n",
    "        learning_rate=LEARNING_RATE,\n",
    "        per_device_train_batch_size=BATCH_SIZE,\n",
    "        per_device_eval_batch_size=BATCH_SIZE,\n",
    "        num_train_epochs=EPOCHS,\n",
    "        evaluation_strategy=\"epoch\",\n",
    "        save_strategy=\"epoch\",\n",
    "        save_total_limit=10,\n",
    "        metric_for_best_model=\"accuracy\",\n",
    "        load_best_model_at_end=True,\n",
    "        weight_decay=0.01,\n",
    "    )\n",
    "\n",
    "    trainer = RegressionTrainer(\n",
    "        model=model,\n",
    "        args=training_args,\n",
    "        train_dataset=train_raw_dataset,\n",
    "        eval_dataset=val_raw_dataset,\n",
    "        compute_metrics=compute_metrics_for_regression,\n",
    "    )\n",
    "    trainer.train()\n",
    "    trainer.eval_dataset=test_raw_dataset\n",
    "    trainer.evaluate()\n",
    "    torch.cuda.empty_cache()\n"
   ]
  },
  {
   "cell_type": "code",
   "execution_count": null,
   "metadata": {},
   "outputs": [],
   "source": [
    "from transformers import AutoTokenizer, AutoModelForSequenceClassification, DataCollatorWithPadding\n",
    "from torch.utils.data import DataLoader\n",
    "\n",
    "BASE_MODEL = \"./models/bert-raw-dataset-regression\"\n",
    "\n",
    "tokenizer = AutoTokenizer.from_pretrained(BASE_MODEL)\n",
    "model = AutoModelForSequenceClassification.from_pretrained(BASE_MODEL, num_labels=1)"
   ]
  },
  {
   "cell_type": "markdown",
   "metadata": {},
   "source": [
    "Loading the checkpoints:"
   ]
  },
  {
   "cell_type": "markdown",
   "metadata": {},
   "source": []
  }
 ],
 "metadata": {
  "kernelspec": {
   "display_name": "Python 3",
   "language": "python",
   "name": "python3"
  },
  "language_info": {
   "codemirror_mode": {
    "name": "ipython",
    "version": 3
   },
   "file_extension": ".py",
   "mimetype": "text/x-python",
   "name": "python",
   "nbconvert_exporter": "python",
   "pygments_lexer": "ipython3",
   "version": "3.10.12"
  }
 },
 "nbformat": 4,
 "nbformat_minor": 2
}
