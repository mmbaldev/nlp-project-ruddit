{
 "cells": [
  {
   "cell_type": "code",
   "execution_count": 8,
   "metadata": {},
   "outputs": [
    {
     "name": "stdout",
     "output_type": "stream",
     "text": [
      "[nltk_data] Downloading package stopwords to /home/mehdi/nltk_data...\n",
      "[nltk_data]   Package stopwords is already up-to-date!\n",
      "[nltk_data] Downloading package wordnet to /home/mehdi/nltk_data...\n",
      "[nltk_data]   Package wordnet is already up-to-date!\n"
     ]
    },
    {
     "data": {
      "text/plain": [
       "True"
      ]
     },
     "execution_count": 8,
     "metadata": {},
     "output_type": "execute_result"
    }
   ],
   "source": [
    "import pandas as pd\n",
    "from sklearn.model_selection import train_test_split\n",
    "import re\n",
    "import nltk\n",
    "from nltk.corpus import stopwords\n",
    "import numpy as np\n",
    "from sklearn.decomposition import PCA\n",
    "from nltk.stem.wordnet import WordNetLemmatizer\n",
    "from nltk.tokenize import word_tokenize\n",
    "import matplotlib.pyplot as plt\n",
    "\n",
    "nltk.download('stopwords')\n",
    "nltk.download('wordnet')"
   ]
  },
  {
   "cell_type": "markdown",
   "metadata": {},
   "source": [
    "Pickle savings helpers"
   ]
  },
  {
   "cell_type": "code",
   "execution_count": 5,
   "metadata": {},
   "outputs": [
    {
     "data": {
      "text/plain": [
       "(4225, 1408, 1)"
      ]
     },
     "execution_count": 5,
     "metadata": {},
     "output_type": "execute_result"
    }
   ],
   "source": [
    "PATH = './data/ruddit.csv'\n",
    "TRAIN_RATIO = 0.75\n",
    "TEST_VAL_RATIO = 1\n",
    "\n",
    "dataset = pd.read_csv(PATH)\n",
    "x_train, x_test_valid, y_train, y_test_valid = train_test_split(dataset[\"comment_text\"], dataset['offensiveness_score'] , train_size=TRAIN_RATIO, random_state=0)\n",
    "x_test, x_valid, y_test, y_valid = train_test_split(x_test_valid, y_test_valid, test_size=TEST_VAL_RATIO, random_state=0)\n",
    "x_train = x_train.reset_index(drop=True)\n",
    "y_train = y_train.reset_index(drop=True)\n",
    "x_test = x_test.reset_index(drop=True)\n",
    "y_test = y_test.reset_index(drop=True)\n",
    "x_valid = x_valid.reset_index(drop=True)\n",
    "y_valid = y_valid.reset_index(drop=True)\n",
    "train_raw = pd.DataFrame({'text': x_train, 'score': y_train})\n",
    "test_raw = pd.DataFrame({'text': x_test, 'score': y_test})\n",
    "valid_raw = pd.DataFrame({'text': x_valid, 'score': y_valid})\n",
    "train_raw['score'] = train_raw['score'].astype('float32')\n",
    "test_raw['score'] = test_raw['score'].astype('float32')\n",
    "valid_raw['score'] = valid_raw['score'].astype('float32')\n",
    "del x_train, x_test, x_valid, y_train, y_test, y_valid, x_test_valid, y_test_valid\n",
    "len(train_raw), len(test_raw), len(valid_raw)"
   ]
  },
  {
   "cell_type": "code",
   "execution_count": 6,
   "metadata": {},
   "outputs": [],
   "source": [
    "wl = WordNetLemmatizer()\n",
    "stop_words = set(stopwords.words('english'))\n",
    "\n",
    "def preprocess_text(text):\n",
    "    pattern = re.compile('[^a-zA-Z]')\n",
    "    text = pattern.sub(' ', text)\n",
    "    text = text.lower()\n",
    "    text = text.split()\n",
    "    text = [wl.lemmatize(word) for word in text if not word in stop_words]\n",
    "    text = ' '.join(text)\n",
    "    return text\n",
    "\n",
    "def clean_dataset(ds):\n",
    "    ds['text'] = ds['text'].apply(preprocess_text)\n",
    "    return ds\n",
    "\n",
    "train = clean_dataset(train_raw.copy())\n",
    "test = clean_dataset(test_raw.copy())\n",
    "valid = clean_dataset(valid_raw.copy())"
   ]
  },
  {
   "cell_type": "code",
   "execution_count": 17,
   "metadata": {},
   "outputs": [],
   "source": [
    "def dataset_statistics(dataset_df, labels=False):\n",
    "    tokens_count = 0\n",
    "    min_tokens = 10000000\n",
    "    max_tokens = 0\n",
    "    labels_count = []\n",
    "    for index, row in dataset_df.iterrows():\n",
    "        print(index, end='\\r')\n",
    "        sentence_tokens_count = len(word_tokenize(row['text']))\n",
    "        tokens_count += sentence_tokens_count\n",
    "        if sentence_tokens_count > max_tokens:\n",
    "            max_tokens = sentence_tokens_count\n",
    "        if sentence_tokens_count < min_tokens:\n",
    "            min_tokens = sentence_tokens_count\n",
    "        if 'score' in row and labels:\n",
    "            labels_count.append(len(row['score']))\n",
    "    print(\"Number of documents: \", len(dataset_df))\n",
    "    print(\"Average number of tokens: \", tokens_count/len(dataset_df))\n",
    "    print(\"Max number of tokens: \", max_tokens)\n",
    "    print(\"Min number of tokens: \", min_tokens)\n",
    "\n",
    "    print(\"score's stats:\")\n",
    "\n",
    "    print(dataset_df['score'].describe())"
   ]
  },
  {
   "cell_type": "code",
   "execution_count": 18,
   "metadata": {},
   "outputs": [
    {
     "name": "stdout",
     "output_type": "stream",
     "text": [
      "Number of documents:  4225\n",
      "Average number of tokens:  17.59360946745562\n",
      "Max number of tokens:  83\n",
      "Min number of tokens:  0\n",
      "score's stats:\n",
      "count    4225.000000\n",
      "mean       -0.031772\n",
      "std         0.329498\n",
      "min        -0.889000\n",
      "25%        -0.261000\n",
      "50%        -0.062000\n",
      "75%         0.146000\n",
      "max         0.938000\n",
      "Name: score, dtype: float64\n"
     ]
    }
   ],
   "source": [
    "dataset_statistics(train)"
   ]
  },
  {
   "cell_type": "code",
   "execution_count": 19,
   "metadata": {},
   "outputs": [
    {
     "name": "stdout",
     "output_type": "stream",
     "text": [
      "Number of documents:  1408\n",
      "Average number of tokens:  17.28409090909091\n",
      "Max number of tokens:  80\n",
      "Min number of tokens:  1\n",
      "score's stats:\n",
      "count    1408.000000\n",
      "mean       -0.024315\n",
      "std         0.343100\n",
      "min        -0.875000\n",
      "25%        -0.271000\n",
      "50%        -0.062000\n",
      "75%         0.188000\n",
      "max         0.979000\n",
      "Name: score, dtype: float64\n"
     ]
    }
   ],
   "source": [
    "dataset_statistics(test)"
   ]
  },
  {
   "cell_type": "code",
   "execution_count": null,
   "metadata": {},
   "outputs": [],
   "source": []
  }
 ],
 "metadata": {
  "kernelspec": {
   "display_name": "Python 3",
   "language": "python",
   "name": "python3"
  },
  "language_info": {
   "codemirror_mode": {
    "name": "ipython",
    "version": 3
   },
   "file_extension": ".py",
   "mimetype": "text/x-python",
   "name": "python",
   "nbconvert_exporter": "python",
   "pygments_lexer": "ipython3",
   "version": "3.10.12"
  }
 },
 "nbformat": 4,
 "nbformat_minor": 2
}
