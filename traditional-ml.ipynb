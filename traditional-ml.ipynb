{
 "cells": [
  {
   "cell_type": "code",
   "execution_count": 1,
   "metadata": {},
   "outputs": [
    {
     "name": "stdout",
     "output_type": "stream",
     "text": [
      "[nltk_data] Downloading package stopwords to /home/mehdi/nltk_data...\n",
      "[nltk_data]   Package stopwords is already up-to-date!\n",
      "[nltk_data] Downloading package wordnet to /home/mehdi/nltk_data...\n",
      "[nltk_data]   Package wordnet is already up-to-date!\n"
     ]
    },
    {
     "data": {
      "text/plain": [
       "True"
      ]
     },
     "execution_count": 1,
     "metadata": {},
     "output_type": "execute_result"
    }
   ],
   "source": [
    "import pandas as pd\n",
    "from sklearn.model_selection import train_test_split\n",
    "import re\n",
    "import nltk\n",
    "from nltk.corpus import stopwords\n",
    "import numpy as np\n",
    "from nltk.stem.wordnet import WordNetLemmatizer\n",
    "nltk.download('stopwords')\n",
    "nltk.download('wordnet')"
   ]
  },
  {
   "cell_type": "markdown",
   "metadata": {},
   "source": [
    "Pickle savings helpers"
   ]
  },
  {
   "cell_type": "code",
   "execution_count": 2,
   "metadata": {},
   "outputs": [],
   "source": [
    "import pickle\n",
    "def save_data(object_name, object):\n",
    "    with open(f'./data/pickles/{object_name}.pickle', 'wb') as f:\n",
    "        pickle.dump(object, f)\n",
    "\n",
    "def load_data(object_name, calculator, *args):\n",
    "    try:\n",
    "        with open(f'./data/pickles/{object_name}.pickle', 'rb') as f:\n",
    "            return pickle.load(f)\n",
    "    except FileNotFoundError:\n",
    "        obj = calculator(*args)\n",
    "        save_data(object_name, obj)\n",
    "        return obj"
   ]
  },
  {
   "cell_type": "code",
   "execution_count": 3,
   "metadata": {},
   "outputs": [
    {
     "data": {
      "text/plain": [
       "(4225, 1408, 1)"
      ]
     },
     "execution_count": 3,
     "metadata": {},
     "output_type": "execute_result"
    }
   ],
   "source": [
    "PATH = './data/ruddit.csv'\n",
    "TRAIN_RATIO = 0.75\n",
    "TEST_VAL_RATIO = 1\n",
    "\n",
    "dataset = pd.read_csv(PATH)\n",
    "x_train, x_test_valid, y_train, y_test_valid = train_test_split(dataset[\"comment_text\"], dataset['offensiveness_score'] , train_size=TRAIN_RATIO, random_state=0)\n",
    "x_test, x_valid, y_test, y_valid = train_test_split(x_test_valid, y_test_valid, test_size=TEST_VAL_RATIO, random_state=0)\n",
    "x_train = x_train.reset_index(drop=True)\n",
    "y_train = y_train.reset_index(drop=True)\n",
    "x_test = x_test.reset_index(drop=True)\n",
    "y_test = y_test.reset_index(drop=True)\n",
    "x_valid = x_valid.reset_index(drop=True)\n",
    "y_valid = y_valid.reset_index(drop=True)\n",
    "train_raw = pd.DataFrame({'text': x_train, 'score': y_train})\n",
    "test_raw = pd.DataFrame({'text': x_test, 'score': y_test})\n",
    "valid_raw = pd.DataFrame({'text': x_valid, 'score': y_valid})\n",
    "train_raw['score'] = train_raw['score'].astype('float32')\n",
    "test_raw['score'] = test_raw['score'].astype('float32')\n",
    "valid_raw['score'] = valid_raw['score'].astype('float32')\n",
    "del x_train, x_test, x_valid, y_train, y_test, y_valid, x_test_valid, y_test_valid\n",
    "len(train_raw), len(test_raw), len(valid_raw)"
   ]
  },
  {
   "cell_type": "markdown",
   "metadata": {},
   "source": [
    "Dataset Cleaning"
   ]
  },
  {
   "cell_type": "code",
   "execution_count": 4,
   "metadata": {},
   "outputs": [],
   "source": [
    "wl = WordNetLemmatizer()\n",
    "stop_words = set(stopwords.words('english'))\n",
    "\n",
    "def preprocess_text(text):\n",
    "    pattern = re.compile('[^a-zA-Z]')\n",
    "    text = pattern.sub(' ', text)\n",
    "    text = text.lower()\n",
    "    text = text.split()\n",
    "    text = [wl.lemmatize(word) for word in text if not word in stop_words]\n",
    "    text = ' '.join(text)\n",
    "    return text\n",
    "\n",
    "def clean_dataset(ds):\n",
    "    ds['text'] = ds['text'].apply(preprocess_text)\n",
    "    return ds\n",
    "\n",
    "train = clean_dataset(train_raw.copy())\n",
    "test = clean_dataset(test_raw.copy())\n",
    "valid = clean_dataset(valid_raw.copy())"
   ]
  },
  {
   "cell_type": "markdown",
   "metadata": {},
   "source": [
    "Bag of words representations"
   ]
  },
  {
   "cell_type": "code",
   "execution_count": 5,
   "metadata": {},
   "outputs": [
    {
     "data": {
      "text/plain": [
       "((4225, 10882), (1408, 10882), (1, 10882))"
      ]
     },
     "execution_count": 5,
     "metadata": {},
     "output_type": "execute_result"
    }
   ],
   "source": [
    "from sklearn.feature_extraction.text import CountVectorizer\n",
    "vectorizer = CountVectorizer()\n",
    "bow_train = vectorizer.fit_transform(train['text']).toarray()\n",
    "bow_test = vectorizer.fit_transform(test['text']).toarray()\n",
    "bow_valid = vectorizer.fit_transform(valid['text']).toarray()\n",
    "\n",
    "pad_width = ((0, 0), (0, bow_train.shape[1] - bow_test.shape[1])) \n",
    "bow_test = np.pad(bow_test, pad_width, mode='constant', constant_values=0)\n",
    "pad_width = ((0, 0), (0, bow_train.shape[1] - bow_valid.shape[1])) \n",
    "bow_valid = np.pad(bow_valid, pad_width, mode='constant', constant_values=0)\n",
    "\n",
    "\n",
    "bow_train.shape, bow_test.shape, bow_valid.shape"
   ]
  },
  {
   "cell_type": "markdown",
   "metadata": {},
   "source": [
    "TFIDF representations"
   ]
  },
  {
   "cell_type": "code",
   "execution_count": 6,
   "metadata": {},
   "outputs": [
    {
     "data": {
      "text/plain": [
       "((4225, 10882), (1408, 10882), (1, 10882))"
      ]
     },
     "execution_count": 6,
     "metadata": {},
     "output_type": "execute_result"
    }
   ],
   "source": [
    "from sklearn.feature_extraction.text import TfidfVectorizer\n",
    "\n",
    "vectorizer = TfidfVectorizer()\n",
    "tfidf_train = vectorizer.fit_transform(train['text']).toarray()\n",
    "tfidf_test = vectorizer.fit_transform(test['text']).toarray()\n",
    "tfidf_valid = vectorizer.fit_transform(valid['text']).toarray()\n",
    "\n",
    "pad_width = ((0, 0), (0, tfidf_train.shape[1] - tfidf_test.shape[1])) \n",
    "tfidf_test = np.pad(tfidf_test, pad_width, mode='constant', constant_values=0)\n",
    "pad_width = ((0, 0), (0, tfidf_train.shape[1] - tfidf_valid.shape[1])) \n",
    "tfidf_valid = np.pad(tfidf_valid, pad_width, mode='constant', constant_values=0)\n",
    "\n",
    "tfidf_train.shape, tfidf_test.shape, tfidf_valid.shape"
   ]
  },
  {
   "cell_type": "markdown",
   "metadata": {},
   "source": [
    "Embeddings representations"
   ]
  },
  {
   "cell_type": "code",
   "execution_count": 7,
   "metadata": {},
   "outputs": [],
   "source": [
    "from gensim.models import Word2Vec\n",
    "import gensim.downloader as api \n",
    "\n",
    "w2vec_google_news_model = load_data('w2vec_google_news_model', api.load, 'word2vec-google-news-300')\n",
    "glove_twitter_model = load_data('glove_twitter_model', api.load, 'glove-wiki-gigaword-300')\n",
    "fasttext_wiki_news_model = load_data('fasttext_wiki_news_model', api.load, 'fasttext-wiki-news-subwords-300')\n"
   ]
  },
  {
   "cell_type": "code",
   "execution_count": 43,
   "metadata": {},
   "outputs": [],
   "source": [
    "tokenized_train = [text.split() for text in train_raw['text']]\n",
    "tokenized_test = [text.split() for text in test_raw['text']]"
   ]
  },
  {
   "cell_type": "code",
   "execution_count": 44,
   "metadata": {},
   "outputs": [],
   "source": [
    "def vectorize(sentence_tokens, w2v_model, vector_size=300):\n",
    "    words_vecs = [w2v_model[word] for word in sentence_tokens if word in w2v_model]\n",
    "    if len(words_vecs) == 0:\n",
    "        return np.zeros(vector_size)\n",
    "    words_vecs = np.array(words_vecs)\n",
    "    return words_vecs.mean(axis=0)\n",
    "\n",
    "train_fasttext = ([vectorize(tokens, fasttext_wiki_news_model) for tokens in tokenized_train])\n",
    "test_fasttext = ([vectorize(tokens, fasttext_wiki_news_model) for tokens in tokenized_test])\n",
    "train_v2w = ([vectorize(tokens, w2vec_google_news_model) for tokens in tokenized_train])\n",
    "test_v2w = ([vectorize(tokens, w2vec_google_news_model) for tokens in tokenized_test])\n",
    "train_glove = ([vectorize(tokens, glove_twitter_model) for tokens in tokenized_train])\n",
    "test_glove = ([vectorize(tokens, glove_twitter_model) for tokens in tokenized_test])\n"
   ]
  },
  {
   "cell_type": "markdown",
   "metadata": {},
   "source": [
    "LLMs representations"
   ]
  },
  {
   "cell_type": "code",
   "execution_count": null,
   "metadata": {},
   "outputs": [],
   "source": [
    "# from transformers import BertModel, BertTokenizer\n",
    "\n",
    "# model = BertModel.from_pretrained('bert-base-uncased')\n",
    "# tokenizer = BertTokenizer.from_pretrained('bert-base-uncased')"
   ]
  },
  {
   "cell_type": "code",
   "execution_count": null,
   "metadata": {},
   "outputs": [],
   "source": [
    "# import torch\n",
    "\n",
    "# def bert_embeddings(ds):\n",
    "#     # Tokenize the texts\n",
    "#     tokenized_inputs = tokenizer(list(ds), truncation=True, padding=True, return_tensors=\"pt\")\n",
    "\n",
    "#     # Generate BERT embeddings\n",
    "#     with torch.no_grad():\n",
    "#         model_output = model(**tokenized_inputs)\n",
    "\n",
    "#     # Extract the embeddings\n",
    "#     embeddings = model_output.last_hidden_state\n",
    "    \n",
    "#     return embeddings.mean(dim=1).numpy()"
   ]
  },
  {
   "cell_type": "code",
   "execution_count": null,
   "metadata": {},
   "outputs": [],
   "source": [
    "# train_raw['text']"
   ]
  },
  {
   "cell_type": "code",
   "execution_count": null,
   "metadata": {},
   "outputs": [],
   "source": [
    "# train_bert_raw = bert_embeddings(train_raw['text'])\n",
    "# test_bert_raw = bert_embeddings(test_raw['text'])"
   ]
  },
  {
   "cell_type": "code",
   "execution_count": null,
   "metadata": {},
   "outputs": [],
   "source": [
    "# train_bert = bert_embeddings(train['text'])\n",
    "# test_bert = bert_embeddings(test['text'])"
   ]
  },
  {
   "cell_type": "code",
   "execution_count": null,
   "metadata": {},
   "outputs": [],
   "source": [
    "import torch\n",
    "\n",
    "def bert_text_embeddings(input_text):\n",
    "    input_ids = tokenizer.encode(input_text, add_special_tokens=True)\n",
    "    input_ids = torch.tensor([input_ids])\n",
    "\n",
    "    with torch.no_grad():\n",
    "        last_hidden_states = model(input_ids)[0] # Models outputs are now tuples\n",
    "    last_hidden_states = last_hidden_states.mean(1)\n",
    "\n",
    "    return last_hidden_states"
   ]
  },
  {
   "cell_type": "code",
   "execution_count": 45,
   "metadata": {},
   "outputs": [],
   "source": [
    "datasets = {\n",
    "    'bow': (bow_train, bow_test, bow_valid),\n",
    "    'tfidf': (tfidf_train, tfidf_test, tfidf_valid),\n",
    "    'fasttext': (train_fasttext, test_fasttext),\n",
    "    'word2vec': (train_v2w, test_v2w),\n",
    "    'glove': (train_glove, test_glove)\n",
    "}"
   ]
  },
  {
   "cell_type": "code",
   "execution_count": 46,
   "metadata": {},
   "outputs": [],
   "source": [
    "from sklearn.linear_model import LogisticRegression, LinearRegression\n",
    "from sklearn.svm import SVR\n",
    "from sklearn.neural_network import MLPRegressor\n",
    "from sklearn.ensemble import RandomForestRegressor\n",
    "\n",
    "linear_reg = LinearRegression()\n",
    "svr_reg = SVR(kernel = 'rbf')\n",
    "mlp_reg = MLPRegressor(random_state=1, max_iter=500)\n",
    "rf_reg = RandomForestRegressor(n_estimators=100, random_state=42)\n"
   ]
  },
  {
   "cell_type": "code",
   "execution_count": 56,
   "metadata": {},
   "outputs": [],
   "source": [
    "model_train = datasets['glove'][0]\n",
    "model_test = datasets['glove'][1]"
   ]
  },
  {
   "cell_type": "code",
   "execution_count": 57,
   "metadata": {},
   "outputs": [
    {
     "data": {
      "text/html": [
       "<style>#sk-container-id-7 {color: black;background-color: white;}#sk-container-id-7 pre{padding: 0;}#sk-container-id-7 div.sk-toggleable {background-color: white;}#sk-container-id-7 label.sk-toggleable__label {cursor: pointer;display: block;width: 100%;margin-bottom: 0;padding: 0.3em;box-sizing: border-box;text-align: center;}#sk-container-id-7 label.sk-toggleable__label-arrow:before {content: \"▸\";float: left;margin-right: 0.25em;color: #696969;}#sk-container-id-7 label.sk-toggleable__label-arrow:hover:before {color: black;}#sk-container-id-7 div.sk-estimator:hover label.sk-toggleable__label-arrow:before {color: black;}#sk-container-id-7 div.sk-toggleable__content {max-height: 0;max-width: 0;overflow: hidden;text-align: left;background-color: #f0f8ff;}#sk-container-id-7 div.sk-toggleable__content pre {margin: 0.2em;color: black;border-radius: 0.25em;background-color: #f0f8ff;}#sk-container-id-7 input.sk-toggleable__control:checked~div.sk-toggleable__content {max-height: 200px;max-width: 100%;overflow: auto;}#sk-container-id-7 input.sk-toggleable__control:checked~label.sk-toggleable__label-arrow:before {content: \"▾\";}#sk-container-id-7 div.sk-estimator input.sk-toggleable__control:checked~label.sk-toggleable__label {background-color: #d4ebff;}#sk-container-id-7 div.sk-label input.sk-toggleable__control:checked~label.sk-toggleable__label {background-color: #d4ebff;}#sk-container-id-7 input.sk-hidden--visually {border: 0;clip: rect(1px 1px 1px 1px);clip: rect(1px, 1px, 1px, 1px);height: 1px;margin: -1px;overflow: hidden;padding: 0;position: absolute;width: 1px;}#sk-container-id-7 div.sk-estimator {font-family: monospace;background-color: #f0f8ff;border: 1px dotted black;border-radius: 0.25em;box-sizing: border-box;margin-bottom: 0.5em;}#sk-container-id-7 div.sk-estimator:hover {background-color: #d4ebff;}#sk-container-id-7 div.sk-parallel-item::after {content: \"\";width: 100%;border-bottom: 1px solid gray;flex-grow: 1;}#sk-container-id-7 div.sk-label:hover label.sk-toggleable__label {background-color: #d4ebff;}#sk-container-id-7 div.sk-serial::before {content: \"\";position: absolute;border-left: 1px solid gray;box-sizing: border-box;top: 0;bottom: 0;left: 50%;z-index: 0;}#sk-container-id-7 div.sk-serial {display: flex;flex-direction: column;align-items: center;background-color: white;padding-right: 0.2em;padding-left: 0.2em;position: relative;}#sk-container-id-7 div.sk-item {position: relative;z-index: 1;}#sk-container-id-7 div.sk-parallel {display: flex;align-items: stretch;justify-content: center;background-color: white;position: relative;}#sk-container-id-7 div.sk-item::before, #sk-container-id-7 div.sk-parallel-item::before {content: \"\";position: absolute;border-left: 1px solid gray;box-sizing: border-box;top: 0;bottom: 0;left: 50%;z-index: -1;}#sk-container-id-7 div.sk-parallel-item {display: flex;flex-direction: column;z-index: 1;position: relative;background-color: white;}#sk-container-id-7 div.sk-parallel-item:first-child::after {align-self: flex-end;width: 50%;}#sk-container-id-7 div.sk-parallel-item:last-child::after {align-self: flex-start;width: 50%;}#sk-container-id-7 div.sk-parallel-item:only-child::after {width: 0;}#sk-container-id-7 div.sk-dashed-wrapped {border: 1px dashed gray;margin: 0 0.4em 0.5em 0.4em;box-sizing: border-box;padding-bottom: 0.4em;background-color: white;}#sk-container-id-7 div.sk-label label {font-family: monospace;font-weight: bold;display: inline-block;line-height: 1.2em;}#sk-container-id-7 div.sk-label-container {text-align: center;}#sk-container-id-7 div.sk-container {/* jupyter's `normalize.less` sets `[hidden] { display: none; }` but bootstrap.min.css set `[hidden] { display: none !important; }` so we also need the `!important` here to be able to override the default hidden behavior on the sphinx rendered scikit-learn.org. See: https://github.com/scikit-learn/scikit-learn/issues/21755 */display: inline-block !important;position: relative;}#sk-container-id-7 div.sk-text-repr-fallback {display: none;}</style><div id=\"sk-container-id-7\" class=\"sk-top-container\"><div class=\"sk-text-repr-fallback\"><pre>RandomForestRegressor(random_state=42)</pre><b>In a Jupyter environment, please rerun this cell to show the HTML representation or trust the notebook. <br />On GitHub, the HTML representation is unable to render, please try loading this page with nbviewer.org.</b></div><div class=\"sk-container\" hidden><div class=\"sk-item\"><div class=\"sk-estimator sk-toggleable\"><input class=\"sk-toggleable__control sk-hidden--visually\" id=\"sk-estimator-id-7\" type=\"checkbox\" checked><label for=\"sk-estimator-id-7\" class=\"sk-toggleable__label sk-toggleable__label-arrow\">RandomForestRegressor</label><div class=\"sk-toggleable__content\"><pre>RandomForestRegressor(random_state=42)</pre></div></div></div></div></div>"
      ],
      "text/plain": [
       "RandomForestRegressor(random_state=42)"
      ]
     },
     "execution_count": 57,
     "metadata": {},
     "output_type": "execute_result"
    }
   ],
   "source": [
    "linear_reg.fit(model_train, train['score'])\n",
    "svr_reg.fit(model_train, train['score'])\n",
    "mlp_reg.fit(model_train, train['score'])\n",
    "rf_reg.fit(model_train, train['score'])"
   ]
  },
  {
   "cell_type": "code",
   "execution_count": 58,
   "metadata": {},
   "outputs": [],
   "source": [
    "svr_preds = svr_reg.predict(model_test)\n",
    "linear_preds = linear_reg.predict(model_test)\n",
    "mlp_preds = mlp_reg.predict(model_test)\n",
    "rf_preds = rf_reg.predict(model_test)"
   ]
  },
  {
   "cell_type": "code",
   "execution_count": 59,
   "metadata": {},
   "outputs": [
    {
     "name": "stdout",
     "output_type": "stream",
     "text": [
      "SVR MSE: 0.07340861310598293, Linear MSE: 0.09466922426057676, MLP MSE: 0.10379193202544125, RF MSE: 0.08534953326234156\n"
     ]
    }
   ],
   "source": [
    "from sklearn.metrics import mean_absolute_error, mean_squared_error, classification_report\n",
    "svr_mse = mean_squared_error(test['score'], svr_preds)\n",
    "linear_mse = mean_squared_error(test['score'], linear_preds)\n",
    "mlp_mse = mean_squared_error(test['score'], mlp_preds)\n",
    "rf_mse = mean_squared_error(test['score'], rf_preds)\n",
    "print(f'SVR MSE: {svr_mse}, Linear MSE: {linear_mse}, MLP MSE: {mlp_mse}, RF MSE: {rf_mse}')"
   ]
  },
  {
   "cell_type": "code",
   "execution_count": 51,
   "metadata": {},
   "outputs": [],
   "source": [
    "times_clean = {\n",
    "    'fasttext': 50.6,\n",
    "    'word2vec': 48.9,\n",
    "    'glove': 49.4\n",
    "}\n",
    "times_dirty = {\n",
    "    'fasttext': 55.7,\n",
    "    'word2vec': 54.3,\n",
    "    'glove': 54.2\n",
    "}\n",
    "results_mse_cleaned = {\n",
    "    'fasttext': {'SVR': 0.04685816665354699, 'Linear': 0.07273326632161381, 'MLP': 0.05643423252877395, 'RF': 0.06449617951793207},\n",
    "    'Word2Vec': {'SVR': 0.04816666309223599, 'Linear': 0.07068408441559317, 'MLP': 0.0655118452881107, 'RF': 0.07014625622457209},\n",
    "    'Glove': {'SVR': 0.05030112790450738, 'Linear': 0.0782962824967885, 'MLP': 0.07334035831215925, 'RF': 0.07286072318841706}\n",
    "}\n",
    "results_mse_dirty = {\n",
    "    'fasttext': {'SVR': 0.058821879162422326, 'Linear': 0.08009510252213108, 'MLP': 0.08096923470973573, 'RF': 0.07731245249116338},\n",
    "    'Word2Vec': {'SVR': 0.05957748697334124, 'Linear': 0.08946030570644542, 'MLP': 0.09698301239891266, 'RF': 0.08042184426460584},\n",
    "    'Glove': {'SVR': 0.07340861310598293, 'Linear': 0.09466922426057676, 'MLP': 0.10379193202544125, 'RF': 0.08534953326234156}\n",
    "}"
   ]
  },
  {
   "cell_type": "code",
   "execution_count": null,
   "metadata": {},
   "outputs": [],
   "source": []
  }
 ],
 "metadata": {
  "kernelspec": {
   "display_name": "Python 3",
   "language": "python",
   "name": "python3"
  },
  "language_info": {
   "codemirror_mode": {
    "name": "ipython",
    "version": 3
   },
   "file_extension": ".py",
   "mimetype": "text/x-python",
   "name": "python",
   "nbconvert_exporter": "python",
   "pygments_lexer": "ipython3",
   "version": "3.10.12"
  }
 },
 "nbformat": 4,
 "nbformat_minor": 2
}
